{
 "cells": [
  {
   "cell_type": "markdown",
   "metadata": {},
   "source": [
    "## CoffeePython POS Terminal"
   ]
  },
  {
   "cell_type": "markdown",
   "metadata": {},
   "source": [
    "CoffeePython is a new specialty coffee place along Katipunan. It commissioned students to build a crude character-mode terminal based on Python.\n",
    "\n",
    "It has the following products:\n",
    "\n",
    "\n",
    "| Code          | Product Name  |  Price |\n",
    "|---------------|---------------|--------|\n",
    "| brewedcoffee  | Brewed Coffee | 120.00 |\n",
    "| espresso      | Espresso      | 140.00 |\n",
    "| americano     | Americano     | 150.00 |\n",
    "| capuccino     | Capuccino     | 170.00 |\n"
   ]
  },
  {
   "cell_type": "markdown",
   "metadata": {},
   "source": [
    "A Python dictionary containing the product information has already been created by someone else:\n",
    "    "
   ]
  },
  {
   "cell_type": "code",
   "execution_count": 1,
   "metadata": {},
   "outputs": [],
   "source": [
    "products = {\n",
    "    \"brewedcoffee\":{\"name\":\"Brewed Coffee\",\"price\":120.00},\n",
    "    \"espresso\":{\"name\":\"Espresso\",\"price\":140.00},\n",
    "    \"americano\":{\"name\":\"Americano\",\"price\":150.00},\n",
    "    \"capuccino\":{\"name\":\"Capuccino\",\"price\":170.00},\n",
    "}"
   ]
  },
  {
   "cell_type": "markdown",
   "metadata": {},
   "source": [
    "### 1. product information lookup function (3 points)\n",
    "\n",
    "Write a function ```get_product(code)``` where code is the key of the product information in the products dictionary. The function should return the dictionary containing the specific product information.\n",
    "For example:\n",
    "\n",
    "\n",
    "**```get_product(\"espresso\")```**\n",
    "\n",
    "should yield\n",
    "\n",
    "**```{\"name\":\"Espresso\",\"price\":140.00}```**\n"
   ]
  },
  {
   "cell_type": "code",
   "execution_count": 2,
   "metadata": {},
   "outputs": [
    {
     "data": {
      "text/plain": [
       "{'name': 'Espresso', 'price': 140.0}"
      ]
     },
     "execution_count": 2,
     "metadata": {},
     "output_type": "execute_result"
    }
   ],
   "source": [
    "def get_product(code):\n",
    "    return products [code]\n",
    "\n",
    "get_product(\"espresso\")"
   ]
  },
  {
   "cell_type": "markdown",
   "metadata": {},
   "source": [
    "### 2. retrieve product attributes (2 points)\n",
    "a. Write one line of code that calls ```get_product(code)``` and returns the price of that product.\n"
   ]
  },
  {
   "cell_type": "code",
   "execution_count": 3,
   "metadata": {},
   "outputs": [
    {
     "data": {
      "text/plain": [
       "140.0"
      ]
     },
     "execution_count": 3,
     "metadata": {},
     "output_type": "execute_result"
    }
   ],
   "source": [
    "## Answer:\n",
    "def get_product(code):\n",
    "     return products [code][\"price\"]\n",
    "\n",
    "get_product(\"espresso\")"
   ]
  },
  {
   "cell_type": "markdown",
   "metadata": {},
   "source": [
    "b. Write one line of code that calls ```get_product(code)``` and returns the name of that product."
   ]
  },
  {
   "cell_type": "code",
   "execution_count": 4,
   "metadata": {},
   "outputs": [
    {
     "data": {
      "text/plain": [
       "'Espresso'"
      ]
     },
     "execution_count": 4,
     "metadata": {},
     "output_type": "execute_result"
    }
   ],
   "source": [
    "## Answer:\n",
    "\n",
    "def get_product(code):\n",
    "     return products [code][\"name\"]\n",
    "\n",
    "get_product(\"espresso\")"
   ]
  },
  {
   "cell_type": "markdown",
   "metadata": {},
   "source": [
    "### 2. Point-of-Sale Terminal  (5 points)\n",
    "\n",
    "Write a function ```main``` that asks for orders of food from a customer. The system should ask for the following:\n",
    "* Product Code (assume that the clerk has memorized the product codes)\n",
    "* Quantity\n",
    "\n",
    "The system then must update an electronic **food tray** (which is just a fancy term for a list of items ordered). Implement the food tray as a list of ordered items, each of which is a *dictionary* containing the following key-value pairs: \n",
    "\n",
    "* product_code, \n",
    "* quantity\n",
    "* subtotal *(which is just the quantity multiplied by the price of the product)*\n",
    "\n",
    "Design your program such that **food_tray** is a variable of the **main** function for now. We will deal with better software design later on. In any case, if any of your functions need to work on the food_tray, pass it as a parameter.\n",
    "\n",
    "The system must compute the subtotal before appending to the food tray.\n",
    "\n",
    "The system must be able to determine if the customer is done with his/her order. Once done, the system notifies the clerk/user of the grand total. \n",
    "\n",
    "The system then prints out the receipt (for now, just show it appear in the notebook), after which it is ready to process the next customer order. Make sure to clear out the food_tray after each successful order.\n",
    "\n",
    "**Bonus (2 points):**\n",
    "Format the receipt output using various print formatting options. You will have to do research on this.\n",
    "\n",
    "**Bonus (2 points):**\n",
    "If the cashier enters an invalid product code, handle the errors gracefully. For one, the system should not bomb out while processing something invalid; rather, it should tell the cashier that he/she entered an invalid product code and to try again.\n",
    "Note that you will have to do research on Error and Exception handling."
   ]
  },
  {
   "cell_type": "code",
   "execution_count": 5,
   "metadata": {},
   "outputs": [],
   "source": [
    "def add_to_tray(food_tray, ordered_item):\n",
    "   food_tray.append(products [ordered_item])"
   ]
  },
  {
   "cell_type": "code",
   "execution_count": 6,
   "metadata": {},
   "outputs": [
    {
     "ename": "SyntaxError",
     "evalue": "unexpected EOF while parsing (<ipython-input-6-8e9ecbbf3f1b>, line 7)",
     "output_type": "error",
     "traceback": [
      "\u001b[1;36m  File \u001b[1;32m\"<ipython-input-6-8e9ecbbf3f1b>\"\u001b[1;36m, line \u001b[1;32m7\u001b[0m\n\u001b[1;33m    \u001b[0m\n\u001b[1;37m    ^\u001b[0m\n\u001b[1;31mSyntaxError\u001b[0m\u001b[1;31m:\u001b[0m unexpected EOF while parsing\n"
     ]
    }
   ],
   "source": [
    "def generate_receipt(food_tray):\n",
    "    ## write your code here\n",
    "    ## it is expected you will use print instead of returning a value\n",
    "    ## hint: use accumulator pattern and loop through the items in the food tray\n",
    "    ## hint: you will have to look up the product name from the products dictionary to make the receipt\n",
    "    ##       more presentable\n",
    "        "
   ]
  },
  {
   "cell_type": "code",
   "execution_count": 7,
   "metadata": {},
   "outputs": [],
   "source": [
    "def main():\n",
    "    \n",
    "    food_tray = []\n",
    "    command = \"N\"\n",
    "    total = 0\n",
    "    while(True):\n",
    "        command = input(\"Options: N-New customer, Q-Quit \")\n",
    "        if(command.upper()==\"Q\"):\n",
    "            break\n",
    "        else:\n",
    "            more = \"Y\"\n",
    "            while(more==\"Y\"):\n",
    "                code = input(\"Enter Product Code: \")\n",
    "                qty = int(input(\"Enter Quantity: \"))\n",
    "                print(code + \": \"+str(qty))\n",
    "                \n",
    "                price = products [code][\"price\"]\n",
    "                subtotal = price*qty\n",
    "                total += subtotal\n",
    "                ordered_item = dict([(\"code:\", code),(\"quantity:\", qty),(\"subtotal:\", subtotal)])\n",
    "                \n",
    "                add_to_tray(food_tray, ordered_item)\n",
    "                \n",
    "                more = input(\"Add more items? (Y/N): \").upper()\n",
    "    print(\"------------------------------------------------------------------------------------------------------\")            \n",
    "       \n",
    "    generate_receipt(food_tray)\n",
    "    print(\"{:>44}{}\".format(\"Total:\", total))\n",
    "    print(\"--------------------------------------------------------------------------------------------------------\")\n",
    "    food_tray = [] \n",
    "        \n",
    "        \n",
    "    print(\"Exiting CoffeePython POS Terminal. Have a great day.\")\n",
    "        "
   ]
  },
  {
   "cell_type": "code",
   "execution_count": 9,
   "metadata": {},
   "outputs": [
    {
     "name": "stdout",
     "output_type": "stream",
     "text": [
      "Options: N-New customer, Q-Quit N\n",
      "Enter Product Code: espresso\n",
      "Enter Quantity: 1\n",
      "espresso: 1\n"
     ]
    },
    {
     "ename": "TypeError",
     "evalue": "unhashable type: 'dict'",
     "output_type": "error",
     "traceback": [
      "\u001b[1;31m---------------------------------------------------------------------------\u001b[0m",
      "\u001b[1;31mTypeError\u001b[0m                                 Traceback (most recent call last)",
      "\u001b[1;32m<ipython-input-9-263240bbee7e>\u001b[0m in \u001b[0;36m<module>\u001b[1;34m\u001b[0m\n\u001b[1;32m----> 1\u001b[1;33m \u001b[0mmain\u001b[0m\u001b[1;33m(\u001b[0m\u001b[1;33m)\u001b[0m\u001b[1;33m\u001b[0m\u001b[1;33m\u001b[0m\u001b[0m\n\u001b[0m",
      "\u001b[1;32m<ipython-input-7-46b451c9d499>\u001b[0m in \u001b[0;36mmain\u001b[1;34m()\u001b[0m\n\u001b[0;32m     20\u001b[0m                 \u001b[0mordered_item\u001b[0m \u001b[1;33m=\u001b[0m \u001b[0mdict\u001b[0m\u001b[1;33m(\u001b[0m\u001b[1;33m[\u001b[0m\u001b[1;33m(\u001b[0m\u001b[1;34m\"code:\"\u001b[0m\u001b[1;33m,\u001b[0m \u001b[0mcode\u001b[0m\u001b[1;33m)\u001b[0m\u001b[1;33m,\u001b[0m\u001b[1;33m(\u001b[0m\u001b[1;34m\"quantity:\"\u001b[0m\u001b[1;33m,\u001b[0m \u001b[0mqty\u001b[0m\u001b[1;33m)\u001b[0m\u001b[1;33m,\u001b[0m\u001b[1;33m(\u001b[0m\u001b[1;34m\"subtotal:\"\u001b[0m\u001b[1;33m,\u001b[0m \u001b[0msubtotal\u001b[0m\u001b[1;33m)\u001b[0m\u001b[1;33m]\u001b[0m\u001b[1;33m)\u001b[0m\u001b[1;33m\u001b[0m\u001b[1;33m\u001b[0m\u001b[0m\n\u001b[0;32m     21\u001b[0m \u001b[1;33m\u001b[0m\u001b[0m\n\u001b[1;32m---> 22\u001b[1;33m                 \u001b[0madd_to_tray\u001b[0m\u001b[1;33m(\u001b[0m\u001b[0mfood_tray\u001b[0m\u001b[1;33m,\u001b[0m \u001b[0mordered_item\u001b[0m\u001b[1;33m)\u001b[0m\u001b[1;33m\u001b[0m\u001b[1;33m\u001b[0m\u001b[0m\n\u001b[0m\u001b[0;32m     23\u001b[0m \u001b[1;33m\u001b[0m\u001b[0m\n\u001b[0;32m     24\u001b[0m                 \u001b[0mmore\u001b[0m \u001b[1;33m=\u001b[0m \u001b[0minput\u001b[0m\u001b[1;33m(\u001b[0m\u001b[1;34m\"Add more items? (Y/N): \"\u001b[0m\u001b[1;33m)\u001b[0m\u001b[1;33m.\u001b[0m\u001b[0mupper\u001b[0m\u001b[1;33m(\u001b[0m\u001b[1;33m)\u001b[0m\u001b[1;33m\u001b[0m\u001b[1;33m\u001b[0m\u001b[0m\n",
      "\u001b[1;32m<ipython-input-5-46d3a9e1632a>\u001b[0m in \u001b[0;36madd_to_tray\u001b[1;34m(food_tray, ordered_item)\u001b[0m\n\u001b[0;32m      1\u001b[0m \u001b[1;32mdef\u001b[0m \u001b[0madd_to_tray\u001b[0m\u001b[1;33m(\u001b[0m\u001b[0mfood_tray\u001b[0m\u001b[1;33m,\u001b[0m \u001b[0mordered_item\u001b[0m\u001b[1;33m)\u001b[0m\u001b[1;33m:\u001b[0m\u001b[1;33m\u001b[0m\u001b[1;33m\u001b[0m\u001b[0m\n\u001b[1;32m----> 2\u001b[1;33m    \u001b[0mfood_tray\u001b[0m\u001b[1;33m.\u001b[0m\u001b[0mappend\u001b[0m\u001b[1;33m(\u001b[0m\u001b[0mproducts\u001b[0m \u001b[1;33m[\u001b[0m\u001b[0mordered_item\u001b[0m\u001b[1;33m]\u001b[0m\u001b[1;33m)\u001b[0m\u001b[1;33m\u001b[0m\u001b[1;33m\u001b[0m\u001b[0m\n\u001b[0m",
      "\u001b[1;31mTypeError\u001b[0m: unhashable type: 'dict'"
     ]
    }
   ],
   "source": [
    "main()"
   ]
  },
  {
   "cell_type": "code",
   "execution_count": null,
   "metadata": {},
   "outputs": [],
   "source": []
  },
  {
   "cell_type": "code",
   "execution_count": null,
   "metadata": {},
   "outputs": [],
   "source": []
  },
  {
   "cell_type": "code",
   "execution_count": null,
   "metadata": {},
   "outputs": [],
   "source": []
  }
 ],
 "metadata": {
  "kernelspec": {
   "display_name": "Python 3",
   "language": "python",
   "name": "python3"
  },
  "language_info": {
   "codemirror_mode": {
    "name": "ipython",
    "version": 3
   },
   "file_extension": ".py",
   "mimetype": "text/x-python",
   "name": "python",
   "nbconvert_exporter": "python",
   "pygments_lexer": "ipython3",
   "version": "3.7.3"
  }
 },
 "nbformat": 4,
 "nbformat_minor": 2
}
